{
 "cells": [
  {
   "cell_type": "markdown",
   "metadata": {},
   "source": [
    "# Init "
   ]
  },
  {
   "cell_type": "code",
   "execution_count": null,
   "metadata": {
    "ExecuteTime": {
     "end_time": "2021-03-15T19:11:12.669665Z",
     "start_time": "2021-03-15T19:11:12.665566Z"
    }
   },
   "outputs": [],
   "source": [
    "import cv2\n",
    "import numpy as np\n",
    "import matplotlib.pyplot as plt\n",
    "import warnings\n",
    "from os import path, listdir\n",
    "from IPython.display import Video\n",
    "\n",
    "from utils import *\n",
    "from pre_processing import *\n",
    "from change_detection import *\n",
    "from object_classification import *\n",
    "from post_processing import *\n",
    "\n",
    "warnings.filterwarnings('ignore') "
   ]
  },
  {
   "cell_type": "markdown",
   "metadata": {},
   "source": [
    "# Load Video"
   ]
  },
  {
   "cell_type": "code",
   "execution_count": null,
   "metadata": {
    "ExecuteTime": {
     "end_time": "2021-03-15T19:11:28.658797Z",
     "start_time": "2021-03-15T19:11:28.387522Z"
    }
   },
   "outputs": [],
   "source": [
    "video_path = path.join('data', 'videos', 'approved2.mp4')\n",
    "colored_vid = load_video(video_path=video_path, gray_scale=False)\n",
    "Video(video_path, height=400, width=600)"
   ]
  },
  {
   "cell_type": "markdown",
   "metadata": {},
   "source": [
    "# Preprocessing"
   ]
  },
  {
   "cell_type": "markdown",
   "metadata": {},
   "source": [
    "## Histograms Calculation"
   ]
  },
  {
   "cell_type": "markdown",
   "metadata": {},
   "source": [
    "### Preprocessed images outline"
   ]
  },
  {
   "cell_type": "code",
   "execution_count": null,
   "metadata": {
    "ExecuteTime": {
     "end_time": "2021-03-15T19:11:30.242467Z",
     "start_time": "2021-03-15T19:11:30.227214Z"
    }
   },
   "outputs": [],
   "source": [
    "images_path = path.join('data', 'object_outline')\n",
    "image_list = load_images(images_path)"
   ]
  },
  {
   "cell_type": "markdown",
   "metadata": {},
   "source": [
    "### Calculating the outline histograms"
   ]
  },
  {
   "cell_type": "code",
   "execution_count": null,
   "metadata": {
    "ExecuteTime": {
     "end_time": "2021-03-15T19:11:31.022426Z",
     "start_time": "2021-03-15T19:11:30.572426Z"
    }
   },
   "outputs": [],
   "source": [
    "window_size = 15\n",
    "histograms_mean_dict = {\"RED\":[], \"GREEN\":[], \"BLUE\":[]}\n",
    "for img_num, img in enumerate(image_list):\n",
    "    r_histograms_mean_list = generate_patches_histograms_mean(img[:,:,0], window_size)\n",
    "    g_histograms_mean_list = generate_patches_histograms_mean(img[:,:,1], window_size)\n",
    "    b_histograms_mean_list = generate_patches_histograms_mean(img[:,:,2], window_size)\n",
    "    histograms_mean_dict[\"RED\"].append(r_histograms_mean_list)\n",
    "    histograms_mean_dict[\"GREEN\"].append(g_histograms_mean_list)\n",
    "    histograms_mean_dict[\"BLUE\"].append(b_histograms_mean_list)"
   ]
  },
  {
   "cell_type": "markdown",
   "metadata": {},
   "source": [
    "### Clustering the hitograms mean and calculating the mean for each cluster"
   ]
  },
  {
   "cell_type": "code",
   "execution_count": null,
   "metadata": {
    "ExecuteTime": {
     "end_time": "2021-03-15T19:11:31.031274Z",
     "start_time": "2021-03-15T19:11:31.025123Z"
    }
   },
   "outputs": [],
   "source": [
    "bins = 2\n",
    "allowed_histogram_means = calculate_allowed_histograms_means(histograms_mean_dict, bins)"
   ]
  },
  {
   "cell_type": "code",
   "execution_count": null,
   "metadata": {
    "ExecuteTime": {
     "end_time": "2021-03-15T19:11:31.149887Z",
     "start_time": "2021-03-15T19:11:31.144411Z"
    }
   },
   "outputs": [],
   "source": [
    "allowed_histogram_means"
   ]
  },
  {
   "cell_type": "markdown",
   "metadata": {},
   "source": [
    "## Object Size calculation"
   ]
  },
  {
   "cell_type": "markdown",
   "metadata": {},
   "source": [
    "### Creating a grid of the input image"
   ]
  },
  {
   "cell_type": "code",
   "execution_count": null,
   "metadata": {
    "ExecuteTime": {
     "end_time": "2021-03-15T19:11:31.976085Z",
     "start_time": "2021-03-15T19:11:31.863172Z"
    }
   },
   "outputs": [],
   "source": [
    "images_path = path.join('data', 'preprocessing_images')\n",
    "image_to_grid = load_images(images_path)[0] # taking the first image based on the knowledge all images sizes are the same"
   ]
  },
  {
   "cell_type": "code",
   "execution_count": null,
   "metadata": {
    "ExecuteTime": {
     "end_time": "2021-03-15T19:11:32.039672Z",
     "start_time": "2021-03-15T19:11:32.034065Z"
    }
   },
   "outputs": [],
   "source": [
    "grid_size = 5 # grid the image with boxes of 20X20\n",
    "image_x_grid = np.arange(0, image_to_grid.shape[1], grid_size)\n",
    "image_y_grid = np.arange(0, image_to_grid.shape[0], grid_size)"
   ]
  },
  {
   "cell_type": "markdown",
   "metadata": {},
   "source": [
    "### Creating a database for approved object size information"
   ]
  },
  {
   "cell_type": "code",
   "execution_count": null,
   "metadata": {
    "ExecuteTime": {
     "end_time": "2021-03-15T19:11:32.779371Z",
     "start_time": "2021-03-15T19:11:32.775270Z"
    }
   },
   "outputs": [],
   "source": [
    "first_object_location = [100, 325, 260, 360]\n",
    "object_size_info = get_grids(image_x_grid, image_y_grid, first_object_location)"
   ]
  },
  {
   "cell_type": "code",
   "execution_count": null,
   "metadata": {
    "ExecuteTime": {
     "end_time": "2021-03-15T19:11:33.143594Z",
     "start_time": "2021-03-15T19:11:33.133686Z"
    }
   },
   "outputs": [],
   "source": [
    "object_size_info"
   ]
  },
  {
   "cell_type": "code",
   "execution_count": null,
   "metadata": {
    "ExecuteTime": {
     "end_time": "2021-03-15T19:11:33.269131Z",
     "start_time": "2021-03-15T19:11:33.265882Z"
    }
   },
   "outputs": [],
   "source": [
    "first_approved_object_info = {\"RED\": allowed_histogram_means[\"RED\"],\n",
    "                             \"GREEN\": allowed_histogram_means[\"GREEN\"],\n",
    "                             \"BLUE\": allowed_histogram_means[\"BLUE\"],\n",
    "                             \"location\": [object_size_info]}"
   ]
  },
  {
   "cell_type": "code",
   "execution_count": null,
   "metadata": {
    "ExecuteTime": {
     "end_time": "2021-03-15T19:11:33.432975Z",
     "start_time": "2021-03-15T19:11:33.425582Z"
    }
   },
   "outputs": [],
   "source": [
    "first_approved_object_info"
   ]
  },
  {
   "cell_type": "markdown",
   "metadata": {},
   "source": [
    "# Change Detection "
   ]
  },
  {
   "cell_type": "markdown",
   "metadata": {},
   "source": [
    "## Set Parameters "
   ]
  },
  {
   "cell_type": "code",
   "execution_count": null,
   "metadata": {
    "ExecuteTime": {
     "end_time": "2021-03-15T19:11:56.000560Z",
     "start_time": "2021-03-15T19:11:55.689094Z"
    }
   },
   "outputs": [],
   "source": [
    "univariate = True\n",
    "cut_percent = 100\n",
    "predict = True\n",
    "k=3\n",
    "t=0.7\n",
    "alpha=2.5\n",
    "learning_rate=0.5\n",
    "k_warm_up=1\n",
    "model_path = path.join('data', 'models', f'{univariate}-{cut_percent}.pickle')\n",
    "\n",
    "colored_vid = resize(colored_vid, percent=cut_percent, gray_scale=False)\n",
    "\n",
    "if univariate:\n",
    "    full_vid = load_video(video_path=video_path, gray_scale=True)\n",
    "    vid = resize(full_vid, percent=cut_percent, gray_scale=True)\n",
    "else:\n",
    "    vid = colored_vid.copy()"
   ]
  },
  {
   "cell_type": "markdown",
   "metadata": {},
   "source": [
    "## GMM"
   ]
  },
  {
   "cell_type": "markdown",
   "metadata": {},
   "source": [
    "### Create Foreground Mask "
   ]
  },
  {
   "cell_type": "code",
   "execution_count": null,
   "metadata": {
    "ExecuteTime": {
     "end_time": "2021-03-15T19:20:23.886191Z",
     "start_time": "2021-03-15T19:12:04.329219Z"
    }
   },
   "outputs": [],
   "source": [
    "v_fg_mask = change_detection(vid, k=k, t=t, alpha=alpha, learning_rate=learning_rate, \n",
    "                             k_warm_up=k_warm_up, univariate=univariate, model_path=model_path, predict=predict)"
   ]
  },
  {
   "cell_type": "code",
   "execution_count": null,
   "metadata": {
    "ExecuteTime": {
     "end_time": "2021-03-15T19:22:09.179836Z",
     "start_time": "2021-03-15T19:22:06.734268Z"
    },
    "scrolled": true
   },
   "outputs": [],
   "source": [
    "play_video_by_images(v_fg_mask, frame_rate=10)"
   ]
  },
  {
   "cell_type": "markdown",
   "metadata": {},
   "source": [
    "### Postprocessing - Improve foreground mask"
   ]
  },
  {
   "cell_type": "code",
   "execution_count": null,
   "metadata": {
    "ExecuteTime": {
     "end_time": "2021-03-15T19:22:12.419412Z",
     "start_time": "2021-03-15T19:22:11.428315Z"
    }
   },
   "outputs": [],
   "source": [
    "v_fg_mask_pp = improve_foreground(v_fg_mask)"
   ]
  },
  {
   "cell_type": "code",
   "execution_count": null,
   "metadata": {
    "ExecuteTime": {
     "end_time": "2021-03-15T19:22:45.114887Z",
     "start_time": "2021-03-15T19:22:43.331138Z"
    }
   },
   "outputs": [],
   "source": [
    "play_video_by_images(v_fg_mask_pp, frame_rate=10)"
   ]
  },
  {
   "cell_type": "markdown",
   "metadata": {
    "ExecuteTime": {
     "end_time": "2021-03-06T07:58:57.462158Z",
     "start_time": "2021-03-06T07:58:52.951236Z"
    },
    "scrolled": false
   },
   "source": [
    "### Find Contours"
   ]
  },
  {
   "cell_type": "code",
   "execution_count": null,
   "metadata": {
    "ExecuteTime": {
     "end_time": "2021-03-15T19:22:32.841960Z",
     "start_time": "2021-03-15T19:22:32.769945Z"
    },
    "scrolled": true
   },
   "outputs": [],
   "source": [
    "frames_contours = find_contours(v_fg_mask_pp.copy())\n",
    "frames_contours"
   ]
  },
  {
   "cell_type": "markdown",
   "metadata": {},
   "source": [
    "# Object Classification "
   ]
  },
  {
   "cell_type": "code",
   "execution_count": null,
   "metadata": {
    "ExecuteTime": {
     "end_time": "2021-03-15T18:47:38.183540Z",
     "start_time": "2021-03-15T18:47:38.164193Z"
    }
   },
   "outputs": [],
   "source": [
    "for frame_index, detected_objects_location in frames_contours.items():\n",
    "    frame = colored_vid[frame_index]\n",
    "    num_of_objects = len(detected_objects_location)\n",
    "    objects_info = get_detected_objects_info(frame, detected_objects_location, image_x_grid, image_y_grid, window_size)\n",
    "    approved_objects = match_with_approved_objects(num_of_objects, objects_info, first_approved_object_info)\n",
    "    save_images_with_boxes(frame, frame_index, approved_objects, detected_objects_location, out_dir = path.join('data', 'object_classification'))"
   ]
  },
  {
   "cell_type": "markdown",
   "metadata": {},
   "source": [
    "## Decide on Alert or Not "
   ]
  },
  {
   "cell_type": "code",
   "execution_count": null,
   "metadata": {},
   "outputs": [],
   "source": []
  },
  {
   "cell_type": "markdown",
   "metadata": {},
   "source": [
    "# Measures "
   ]
  },
  {
   "cell_type": "code",
   "execution_count": null,
   "metadata": {},
   "outputs": [],
   "source": []
  },
  {
   "cell_type": "code",
   "execution_count": null,
   "metadata": {},
   "outputs": [],
   "source": []
  }
 ],
 "metadata": {
  "kernelspec": {
   "display_name": "Python 3",
   "language": "python",
   "name": "python3"
  },
  "language_info": {
   "codemirror_mode": {
    "name": "ipython",
    "version": 3
   },
   "file_extension": ".py",
   "mimetype": "text/x-python",
   "name": "python",
   "nbconvert_exporter": "python",
   "pygments_lexer": "ipython3",
   "version": "3.8.3"
  },
  "toc": {
   "base_numbering": 1,
   "nav_menu": {},
   "number_sections": true,
   "sideBar": true,
   "skip_h1_title": false,
   "title_cell": "Table of Contents",
   "title_sidebar": "Contents",
   "toc_cell": false,
   "toc_position": {
    "height": "calc(100% - 180px)",
    "left": "10px",
    "top": "150px",
    "width": "384px"
   },
   "toc_section_display": true,
   "toc_window_display": true
  }
 },
 "nbformat": 4,
 "nbformat_minor": 4
}
